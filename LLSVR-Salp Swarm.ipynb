{
 "cells": [
  {
   "cell_type": "code",
   "execution_count": 1,
   "metadata": {},
   "outputs": [],
   "source": [
    "import numpy as np\n",
    "import pandas as pd\n",
    "import matplotlib.pyplot as plt"
   ]
  },
  {
   "cell_type": "code",
   "execution_count": 2,
   "metadata": {},
   "outputs": [],
   "source": [
    "import datetime"
   ]
  },
  {
   "cell_type": "code",
   "execution_count": 3,
   "metadata": {},
   "outputs": [],
   "source": [
    "dat=pd.read_csv('NASDAQOMX-NDX.csv')"
   ]
  },
  {
   "cell_type": "code",
   "execution_count": 5,
   "metadata": {},
   "outputs": [
    {
     "name": "stderr",
     "output_type": "stream",
     "text": [
      "C:\\Users\\lenovo\\Anaconda3\\lib\\site-packages\\ipykernel_launcher.py:2: SettingWithCopyWarning: \n",
      "A value is trying to be set on a copy of a slice from a DataFrame\n",
      "\n",
      "See the caveats in the documentation: http://pandas.pydata.org/pandas-docs/stable/user_guide/indexing.html#returning-a-view-versus-a-copy\n",
      "  \n"
     ]
    }
   ],
   "source": [
    "dat=dat.iloc[::-1]\n",
    "dat.dropna(inplace=True)\n",
    "dat = dat.reset_index(drop = True)"
   ]
  },
  {
   "cell_type": "code",
   "execution_count": 6,
   "metadata": {},
   "outputs": [],
   "source": [
    "date = dat[['Trade Date']]\n",
    "dat.drop('Trade Date',inplace=True,axis=1)\n",
    "dat=pd.concat([date,dat],axis=1)\n",
    "dat['Trade Date'] = pd.to_datetime(dat['Trade Date'],format='%Y-%m-%d')"
   ]
  },
  {
   "cell_type": "code",
   "execution_count": 8,
   "metadata": {},
   "outputs": [
    {
     "name": "stderr",
     "output_type": "stream",
     "text": [
      "C:\\Users\\lenovo\\Anaconda3\\lib\\site-packages\\pandas\\plotting\\_matplotlib\\converter.py:103: FutureWarning: Using an implicitly registered datetime converter for a matplotlib plotting method. The converter was registered by pandas on import. Future versions of pandas will require you to explicitly register matplotlib converters.\n",
      "\n",
      "To register the converters:\n",
      "\t>>> from pandas.plotting import register_matplotlib_converters\n",
      "\t>>> register_matplotlib_converters()\n",
      "  warnings.warn(msg, FutureWarning)\n"
     ]
    },
    {
     "data": {
      "text/plain": [
       "[<matplotlib.lines.Line2D at 0x1ef318f18d0>]"
      ]
     },
     "execution_count": 8,
     "metadata": {},
     "output_type": "execute_result"
    },
    {
     "data": {
      "image/png": "[encoded data removed]",
      "text/plain": [
       "<Figure size 432x288 with 1 Axes>"
      ]
     },
     "metadata": {
      "needs_background": "light"
     },
     "output_type": "display_data"
    }
   ],
   "source": [
    "plt.plot(dat['Trade Date'],dat[\"Index Value\"])"
   ]
  },
  {
   "cell_type": "code",
   "execution_count": 9,
   "metadata": {},
   "outputs": [],
   "source": [
    "def typical(high,low,close,volume):\n",
    "    mf = ((high + low + close)/3)*volume\n",
    "    return mf     "
   ]
  },
  {
   "cell_type": "code",
   "execution_count": 10,
   "metadata": {},
   "outputs": [],
   "source": [
    "#EMA\n",
    "def EMA(data):\n",
    "    dats = data.astype(float)\n",
    "    data['EMA'] = dats.ewm(span = 20).mean()\n",
    "    return data['EMA']"
   ]
  },
  {
   "cell_type": "code",
   "execution_count": 11,
   "metadata": {},
   "outputs": [],
   "source": [
    "def MFI(data):\n",
    "    data = pd.DataFrame(data)\n",
    "    returns = data - data.shift(1)\n",
    "    returns.dropna()\n",
    "    up,down = returns.copy(),returns.copy()\n",
    "    up[up<0] = 0\n",
    "    down[down>0] = 0\n",
    "    upm = up.mean()\n",
    "    downm = down.abs().mean()\n",
    "    \n",
    "    mfi = 100 - (100/(1+(upm/downm)))\n",
    "    return mfi"
   ]
  },
  {
   "cell_type": "code",
   "execution_count": 12,
   "metadata": {},
   "outputs": [],
   "source": [
    "#RSI\n",
    "def RSI(data):\n",
    "    data = pd.DataFrame(data)\n",
    "    returns = data - data.shift(1)\n",
    "    returns.dropna()\n",
    "    up,down = returns.copy(),returns.copy()\n",
    "    up[up<0] = 0\n",
    "    down[down>0] = 0\n",
    "    upm = up.mean()\n",
    "    downm = down.abs().mean()\n",
    "    rsi = 100 - (100/(1+(upm/downm)))\n",
    "    return rsi "
   ]
  },
  {
   "cell_type": "code",
   "execution_count": 13,
   "metadata": {},
   "outputs": [],
   "source": [
    "def MACD(ema):\n",
    "    high = 0.075 * ema\n",
    "    low = 0.15 * ema\n",
    "    macd = high - low\n",
    "    return macd"
   ]
  },
  {
   "cell_type": "code",
   "execution_count": 14,
   "metadata": {},
   "outputs": [],
   "source": [
    "def Oscillator(data):\n",
    "\n",
    "    curr = data[-1]\n",
    "    data = list(data)\n",
    "    high = max(data)\n",
    "    low = min(data)\n",
    "    so = ((curr - low)/(high - low))*100 \n",
    "    return so"
   ]
  },
  {
   "cell_type": "code",
   "execution_count": 15,
   "metadata": {},
   "outputs": [],
   "source": [
    "dat['MF'] = typical(dat['High'],dat['Low'],dat['Index Value'],dat['Total Market Value'])"
   ]
  },
  {
   "cell_type": "code",
   "execution_count": 16,
   "metadata": {},
   "outputs": [
    {
     "name": "stderr",
     "output_type": "stream",
     "text": [
      "C:\\Users\\lenovo\\Anaconda3\\lib\\site-packages\\ipykernel_launcher.py:4: SettingWithCopyWarning: \n",
      "A value is trying to be set on a copy of a slice from a DataFrame.\n",
      "Try using .loc[row_indexer,col_indexer] = value instead\n",
      "\n",
      "See the caveats in the documentation: http://pandas.pydata.org/pandas-docs/stable/user_guide/indexing.html#returning-a-view-versus-a-copy\n",
      "  after removing the cwd from sys.path.\n"
     ]
    }
   ],
   "source": [
    "dat['EMA'] = EMA(dat.iloc[:,[3]])"
   ]
  },
  {
   "cell_type": "code",
   "execution_count": 17,
   "metadata": {},
   "outputs": [
    {
     "name": "stderr",
     "output_type": "stream",
     "text": [
      "C:\\Users\\lenovo\\Anaconda3\\lib\\site-packages\\ipykernel_launcher.py:1: FutureWarning: Currently, 'apply' passes the values as ndarrays to the applied function. In the future, this will change to passing it as Series objects. You need to specify 'raw=True' to keep the current behaviour, and you can pass 'raw=False' to silence this warning\n",
      "  \"\"\"Entry point for launching an IPython kernel.\n"
     ]
    }
   ],
   "source": [
    "dat['RSI'] = dat['Index Value'].rolling(7).apply(RSI)"
   ]
  },
  {
   "cell_type": "code",
   "execution_count": 18,
   "metadata": {},
   "outputs": [
    {
     "name": "stderr",
     "output_type": "stream",
     "text": [
      "C:\\Users\\lenovo\\Anaconda3\\lib\\site-packages\\ipykernel_launcher.py:1: FutureWarning: Currently, 'apply' passes the values as ndarrays to the applied function. In the future, this will change to passing it as Series objects. You need to specify 'raw=True' to keep the current behaviour, and you can pass 'raw=False' to silence this warning\n",
      "  \"\"\"Entry point for launching an IPython kernel.\n"
     ]
    }
   ],
   "source": [
    "dat['MFI'] = dat['MF'].rolling(7).apply(MFI)"
   ]
  },
  {
   "cell_type": "code",
   "execution_count": 19,
   "metadata": {},
   "outputs": [
    {
     "name": "stderr",
     "output_type": "stream",
     "text": [
      "C:\\Users\\lenovo\\Anaconda3\\lib\\site-packages\\ipykernel_launcher.py:1: FutureWarning: Currently, 'apply' passes the values as ndarrays to the applied function. In the future, this will change to passing it as Series objects. You need to specify 'raw=True' to keep the current behaviour, and you can pass 'raw=False' to silence this warning\n",
      "  \"\"\"Entry point for launching an IPython kernel.\n"
     ]
    }
   ],
   "source": [
    "dat['SO'] = dat['Index Value'].rolling(7).apply(Oscillator)"
   ]
  },
  {
   "cell_type": "code",
   "execution_count": 20,
   "metadata": {},
   "outputs": [],
   "source": [
    "dat.index=date[\"Trade Date\"]"
   ]
  },
  {
   "cell_type": "code",
   "execution_count": 22,
   "metadata": {},
   "outputs": [],
   "source": [
    "dat['MACD'] = MACD(dat.iloc[:,[7]])"
   ]
  },
  {
   "cell_type": "code",
   "execution_count": 23,
   "metadata": {},
   "outputs": [],
   "source": [
    "dat['MACD_Signal'] = MACD(dat.iloc[:,[11]])"
   ]
  },
  {
   "cell_type": "code",
   "execution_count": 24,
   "metadata": {},
   "outputs": [],
   "source": [
    "dat.drop(['High','Low','Total Market Value','Dividend Market Value','MF','MACD_Signal'],axis = 1,inplace = True)"
   ]
  },
  {
   "cell_type": "code",
   "execution_count": 25,
   "metadata": {},
   "outputs": [],
   "source": [
    "dat.drop(\"Trade Date\",axis=1,inplace=True)"
   ]
  },
  {
   "cell_type": "code",
   "execution_count": 26,
   "metadata": {},
   "outputs": [],
   "source": [
    "xdata = dat.dropna()"
   ]
  },
  {
   "cell_type": "code",
   "execution_count": 27,
   "metadata": {},
   "outputs": [],
   "source": [
    "dates = xdata.copy()"
   ]
  },
  {
   "cell_type": "code",
   "execution_count": 29,
   "metadata": {},
   "outputs": [],
   "source": [
    "from sklearn.preprocessing import StandardScaler\n",
    "scaler = StandardScaler()\n",
    "xdata = pd.DataFrame(scaler.fit_transform(xdata))"
   ]
  },
  {
   "cell_type": "code",
   "execution_count": 31,
   "metadata": {},
   "outputs": [],
   "source": [
    "xdata = xdata.rename({0:'Index Value',1:'EMA',2:'RSI',3:'MFI',4:'SO',5:'MACD'},axis = 1)"
   ]
  },
  {
   "cell_type": "code",
   "execution_count": 32,
   "metadata": {},
   "outputs": [],
   "source": [
    "xdata.index = dates.index"
   ]
  },
  {
   "cell_type": "code",
   "execution_count": 33,
   "metadata": {},
   "outputs": [],
   "source": [
    "ydata = xdata['Index Value'].shift(-1)"
   ]
  },
  {
   "cell_type": "code",
   "execution_count": 34,
   "metadata": {},
   "outputs": [],
   "source": [
    "xdata = xdata.drop('Index Value',axis = 1)"
   ]
  },
  {
   "cell_type": "code",
   "execution_count": 36,
   "metadata": {},
   "outputs": [],
   "source": [
    "x_trains, y_trains = xdata[:3000],ydata[:3000]"
   ]
  },
  {
   "cell_type": "code",
   "execution_count": 37,
   "metadata": {},
   "outputs": [],
   "source": [
    "y_trains = pd.DataFrame(y_trains)"
   ]
  },
  {
   "cell_type": "code",
   "execution_count": 38,
   "metadata": {},
   "outputs": [],
   "source": [
    "x_tests, y_tests = xdata[3000:],ydata[3000:]"
   ]
  },
  {
   "cell_type": "code",
   "execution_count": 39,
   "metadata": {},
   "outputs": [],
   "source": [
    "y_tests = pd.DataFrame(y_tests)"
   ]
  },
  {
   "cell_type": "code",
   "execution_count": 40,
   "metadata": {},
   "outputs": [],
   "source": [
    "y_tests.dropna(inplace = True)"
   ]
  },
  {
   "cell_type": "code",
   "execution_count": 43,
   "metadata": {},
   "outputs": [],
   "source": [
    "x_tests  = x_tests[:-1]"
   ]
  },
  {
   "cell_type": "code",
   "execution_count": 44,
   "metadata": {},
   "outputs": [],
   "source": [
    "xdata  = xdata[:-1]"
   ]
  },
  {
   "cell_type": "code",
   "execution_count": 45,
   "metadata": {},
   "outputs": [],
   "source": [
    "ydata.dropna(inplace = True)"
   ]
  },
  {
   "cell_type": "code",
   "execution_count": 48,
   "metadata": {},
   "outputs": [],
   "source": [
    "from __future__ import division\n",
    "import random\n",
    "import math\n",
    "import time"
   ]
  },
  {
   "cell_type": "code",
   "execution_count": 49,
   "metadata": {},
   "outputs": [],
   "source": [
    "\"\"\"Least Squares Support Vector Regression.\"\"\"\n",
    "import numpy as np\n",
    "from sklearn.base import BaseEstimator, RegressorMixin\n",
    "from sklearn.metrics.pairwise import rbf_kernel\n",
    "from sklearn.gaussian_process import kernels\n",
    "from scipy.sparse import linalg\n",
    "\n",
    "\n",
    "class LSSVR(BaseEstimator, RegressorMixin):\n",
    "    def __init__(self, C=None, kernel=None, gamma=10,polyconst=1,degree=2):\n",
    "        self.supportVectors      = None\n",
    "        self.supportVectorLabels = None\n",
    "        self.C = C\n",
    "        self.polyconst = float(1)\n",
    "        self.gamma = float(gamma)\n",
    "        self.degree = degree\n",
    "        self.kernel= kernel\n",
    "        self.idxs  = None\n",
    "        self.K = None\n",
    "        self.bias = None \n",
    "        self.alphas = None\n",
    "            \n",
    "\n",
    "    def set_params(self, **parameters):\n",
    "        for parameter, value in parameters.items():\n",
    "            setattr(self, parameter, value)\n",
    "        return self\n",
    "\n",
    "    def fit(self, x_train, y_train):\n",
    "        \n",
    "        if type(self.idxs) == type(None):\n",
    "            self.idxs=np.full(x_train.shape[0],True, dtype=bool)\n",
    "            \n",
    "             \n",
    "        self.supportVectors      = x_train.loc[self.idxs, :]\n",
    "        self.supportVectorLabels = y_train.loc[self.idxs]\n",
    "               \n",
    "        K = self.kernel_func(self.kernel, x_train, self.supportVectors, self.gamma)\n",
    "        \n",
    "        self.K = K\n",
    "        OMEGA = K\n",
    "        OMEGA[self.idxs, np.arange(OMEGA.shape[1])] =OMEGA[self.idxs, np.arange(OMEGA.shape[1])] + 1/self.C\n",
    "        \n",
    "        D = np.zeros(np.array(OMEGA.shape) + 1)\n",
    "        D[1:,1:] = OMEGA\n",
    "        D[0, 1:] += 1\n",
    "        D[1:,0 ] += 1\n",
    "\n",
    "        n = len(self.supportVectorLabels) + 1\n",
    "        t = np.zeros(n)\n",
    "        #t = pd.DataFrame(t)                      #Comment this line while running main function, nd run this block again uncommenting this line when running optimizer fn. \n",
    "        t[1:n] = self.supportVectorLabels.values\n",
    "    \n",
    "    \n",
    "        try:\n",
    "            z = linalg.lsmr(D.T, t)[0]\n",
    "        except:\n",
    "            z = np.linalg.pinv(D).T @ t.ravel()\n",
    "\n",
    "        self.bias   = z[0]\n",
    "        self.alphas = z[1:]\n",
    "        self.alphas = self.alphas[self.idxs]\n",
    "\n",
    "        return self\n",
    "\n",
    "    def predict(self, x_test):\n",
    "        K = self.kernel_func(self.kernel, x_test, self.supportVectors, self.gamma)\n",
    "\n",
    "        return (K @ self.alphas) + self.bias\n",
    "    \n",
    "    def kernel_func(self, kernel, u, v, gamma):\n",
    "        if kernel == 'linear':\n",
    "            k = np.dot(u, v.T)\n",
    "        if kernel == 'rbf':\n",
    "            k = rbf_kernel(u, v, gamma=gamma)\n",
    "            #k = np.exp(-1.0*self.gamma*np.dot(np.subtract(v,u).T,np.subtract(v,u))) #rbf expression\n",
    "        if kernel == 'polynomial':\n",
    "            k = (np.dot(u,v.T) + self.polyconst)**self.degree\n",
    "\n",
    "            \n",
    "        return k"
   ]
  },
  {
   "cell_type": "code",
   "execution_count": 50,
   "metadata": {},
   "outputs": [],
   "source": [
    "\"\"\"Least Squares Support Vector Regression.\"\"\"\n",
    "import numpy as np\n",
    "from sklearn.base import BaseEstimator, RegressorMixin\n",
    "from sklearn.metrics.pairwise import rbf_kernel\n",
    "from sklearn.gaussian_process import kernels\n",
    "from scipy.sparse import linalg\n",
    "\n",
    "\n",
    "class LSSVR1(BaseEstimator, RegressorMixin):\n",
    "    def __init__(self, C=None, kernel=None, gamma=10,polyconst=1,degree=2):\n",
    "        self.supportVectors      = None\n",
    "        self.supportVectorLabels = None\n",
    "        self.C = C\n",
    "        self.polyconst = float(1)\n",
    "        self.gamma = float(gamma)\n",
    "        self.degree = degree\n",
    "        self.kernel= kernel\n",
    "        self.idxs  = None\n",
    "        self.K = None\n",
    "        self.bias = None \n",
    "        self.alphas = None\n",
    "            \n",
    "\n",
    "    def set_params(self, **parameters):\n",
    "        for parameter, value in parameters.items():\n",
    "            setattr(self, parameter, value)\n",
    "        return self\n",
    "\n",
    "    def fit(self, x_train, y_train):\n",
    "        \n",
    "        if type(self.idxs) == type(None):\n",
    "            self.idxs=np.full(x_train.shape[0],True, dtype=bool)\n",
    "            \n",
    "             \n",
    "        self.supportVectors      = x_train.loc[self.idxs, :]\n",
    "        self.supportVectorLabels = y_train.loc[self.idxs]\n",
    "               \n",
    "        K = self.kernel_func(self.kernel, x_train, self.supportVectors, self.gamma)\n",
    "        \n",
    "        self.K = K\n",
    "        OMEGA = K\n",
    "        OMEGA[self.idxs, np.arange(OMEGA.shape[1])] =OMEGA[self.idxs, np.arange(OMEGA.shape[1])] + 1/self.C\n",
    "        \n",
    "        D = np.zeros(np.array(OMEGA.shape) + 1)\n",
    "        D[1:,1:] = OMEGA\n",
    "        D[0, 1:] += 1\n",
    "        D[1:,0 ] += 1\n",
    "\n",
    "        n = len(self.supportVectorLabels) + 1\n",
    "        t = np.zeros(n)\n",
    "        t = pd.DataFrame(t)                      #Comment this line while running main function, nd run this block again uncommenting this line when running optimizer fn. \n",
    "        t[1:n] = self.supportVectorLabels.values\n",
    "    \n",
    "    \n",
    "        try:\n",
    "            z = linalg.lsmr(D.T, t)[0]\n",
    "        except:\n",
    "            z = np.linalg.pinv(D).T @ t.ravel()\n",
    "\n",
    "        self.bias   = z[0]\n",
    "        self.alphas = z[1:]\n",
    "        self.alphas = self.alphas[self.idxs]\n",
    "\n",
    "        return self\n",
    "\n",
    "    def predict(self, x_test):\n",
    "        K = self.kernel_func(self.kernel, x_test, self.supportVectors, self.gamma)\n",
    "\n",
    "        return (K @ self.alphas) + self.bias\n",
    "    \n",
    "    def kernel_func(self, kernel, u, v, gamma):\n",
    "        if kernel == 'linear':\n",
    "            k = np.dot(u, v.T)\n",
    "        if kernel == 'rbf':\n",
    "            k = rbf_kernel(u, v, gamma=gamma)\n",
    "            #k = np.exp(-1.0*self.gamma*np.dot(np.subtract(v,u).T,np.subtract(v,u))) #rbf expression\n",
    "        if kernel == 'polynomial':\n",
    "            k = (np.dot(u,v.T) + self.polyconst)**self.degree\n",
    "\n",
    "            \n",
    "        return k"
   ]
  },
  {
   "cell_type": "code",
   "execution_count": 51,
   "metadata": {},
   "outputs": [],
   "source": [
    "class salp:\n",
    "    def __init__(self,bounds):\n",
    "        self.position = []\n",
    "        self.fitness = -1\n",
    "\n",
    "        for i in range(0,n_dim):\n",
    "            self.position.append(random.uniform(bounds[i][0],bounds[i][1]))\n",
    "    \n",
    "    def evaluate(self,costFunc):\n",
    "        self.fitness = costFunc(self.position)\n",
    "        \n",
    "    def update_leader(self,F,c1,bounds):\n",
    "        for i in range(0,n_dim):\n",
    "            c2 = random.random()\n",
    "            c3 = random.random()\n",
    "            \n",
    "            if c3 >=0.5:\n",
    "                self.position[i] = F[i] + c1*(c2*(bounds[i][1] - bounds[i][0]) + bounds[i][0])\n",
    "            elif c3<0.5:\n",
    "                self.position[i] = F[i] - c1*(c2*(bounds[i][1] - bounds[i][0]) + bounds[i][0])\n",
    "                \n",
    "            if self.position[i]>bounds[i][1]:\n",
    "                self.position[i]=bounds[i][1]\n",
    "\n",
    "            if self.position[i] < bounds[i][0]:\n",
    "                self.position[i]=bounds[i][0] \n",
    "                \n",
    "                     \n",
    "                \n",
    "class SSA():\n",
    "    def __init__(self,costFunc,bounds,salp_size,maxiter):\n",
    "        global n_dim\n",
    "        \n",
    "        n_dim = len(bounds)\n",
    "        F_pos = []\n",
    "        F_val = -1\n",
    "        \n",
    "        salps = []\n",
    "        for i in range(0,salp_size):\n",
    "            salps.append(salp(bounds))\n",
    "            \n",
    "        i = 0\n",
    "        while i < maxiter:\n",
    "            \n",
    "            c1 = 2*math.exp(-((4*i)/maxiter)**2)\n",
    "            \n",
    "            for j in range(0,salp_size):\n",
    "                salps[j].evaluate(costFunc)\n",
    "                if salps[j].fitness < F_val or F_val == -1:\n",
    "                    F_val = salps[j].fitness\n",
    "                    F_pos = list(salps[j].position)\n",
    "            \n",
    "            for j in range(0,salp_size):        \n",
    "                if j == 1:\n",
    "                    salps[j].update_leader(F_pos,c1,bounds)\n",
    "                else :\n",
    "                    for k in range(0,n_dim):\n",
    "                        salps[j].position[k] = (salps[j].position[k] + salps[j-1].position[k])/2\n",
    "                        if salps[j].position[k]>bounds[k][1]:\n",
    "                            salps[j].position[k]=bounds[k][1]\n",
    "\n",
    "                        if salps[j].position[k] < bounds[k][0]:\n",
    "                            salps[j].position[k]=bounds[k][0]    \n",
    "            i = i+1 \n",
    "            \n",
    "        print (F_pos)\n",
    "        print (F_val)    \n",
    "            "
   ]
  },
  {
   "cell_type": "code",
   "execution_count": 52,
   "metadata": {},
   "outputs": [],
   "source": [
    "from sklearn.model_selection import TimeSeriesSplit"
   ]
  },
  {
   "cell_type": "code",
   "execution_count": 53,
   "metadata": {},
   "outputs": [],
   "source": [
    "fold_count=10 \n",
    "\n",
    "def load_csvdata():\n",
    "    global X\n",
    "    global Y\n",
    "    \n",
    "    X = xdata\n",
    "    Y = ydata\n",
    "\n",
    "def svrPso(params):\n",
    "    kf = TimeSeriesSplit(n_splits=fold_count)\n",
    "    for train, test in kf.split(X):\n",
    "        Total = 0\n",
    "         \n",
    "        X_train, X_test, y_train, y_test = X.iloc[train], X.iloc[test], Y.iloc[train], Y.iloc[test]\n",
    "        nn = LSSVR(kernel = 'rbf',C=params[0], gamma = params[1])#Change Kernel name here(for poly kernel add 2 more parameters to optimize[degree,polyconst])\n",
    "        nn.fit(X_train,y_train)\n",
    "        result = nn.predict(X_test);\n",
    "        thisError = calsError(y_test, result)\n",
    "        Total = Total + thisError    \n",
    "    ErrorCV = Total/fold_count; \n",
    "    print('Optimizing the Parameters ..... C = {c}, gamma={e}, MSE={m}'.format(c=params[0], e=params[1], m=ErrorCV))\n",
    "    return ErrorCV\n",
    "\n",
    "def calsError(y_test, result):\n",
    "    y_pred = pd.DataFrame(result)\n",
    "    y_pred.index = y_test.index\n",
    "    data = pd.concat([y_test,y_pred],axis=1)\n",
    "    data['Error'] = (data['Index Value'] - data[0])**2\n",
    "    err = np.sqrt(np.sum(data['Error']))\n",
    "    \n",
    "    return err\n",
    "    \n",
    "def main_run():\n",
    "    \n",
    "        load_csvdata()\n",
    "        #For SSA\n",
    "        bounds=[(0.01,5000),(0.0002,500)] \n",
    "        SSA(svrPso,bounds,salp_size=5,maxiter=100)\n",
    "        \n",
    "        \n",
    "        print(\" \")\n",
    "        print(\"************ Objective Function optimized *****************\")\n",
    "        print(\" \")\n",
    "        print(\" \")"
   ]
  },
  {
   "cell_type": "code",
   "execution_count": 54,
   "metadata": {},
   "outputs": [],
   "source": [
    "print(\"************  Initializing Optimization *****************\")\n",
    "tic = time.time()\n",
    "main_run()\n",
    "toc = time.time()\n",
    "print(\"************  Optimization Finished *****************\")\n",
    "print('Time Taken is {time} secs'.format(time = (toc - tic)))"
   ]
  },
  {
   "cell_type": "code",
   "execution_count": 66,
   "metadata": {},
   "outputs": [
    {
     "data": {
      "text/plain": [
       "LSSVR1(C=5000, degree=2, gamma=0.0002, kernel='rbf', polyconst=1.0)"
      ]
     },
     "execution_count": 66,
     "metadata": {},
     "output_type": "execute_result"
    }
   ],
   "source": [
    "model = LSSVR1(kernel='rbf',C =F_pos[0],gamma =F_pos[1])\n",
    "model.fit(x_trains,y_trains)"
   ]
  },
  {
   "cell_type": "code",
   "execution_count": 67,
   "metadata": {},
   "outputs": [],
   "source": [
    "res = model.predict(x_tests)\n",
    "res = pd.DataFrame(res)\n",
    "res.index = y_tests.index\n",
    "res.rename({0:'Index value'},axis =1,inplace=True)"
   ]
  },
  {
   "cell_type": "code",
   "execution_count": 58,
   "metadata": {},
   "outputs": [
    {
     "data": {
      "text/plain": [
       "<matplotlib.legend.Legend at 0x1ef33aafcc0>"
      ]
     },
     "execution_count": 58,
     "metadata": {},
     "output_type": "execute_result"
    },
    {
     "data": {
      "image/png": "[encoded data removed]",
      "text/plain": [
       "<Figure size 1440x1008 with 1 Axes>"
      ]
     },
     "metadata": {
      "needs_background": "light"
     },
     "output_type": "display_data"
    }
   ],
   "source": [
    "plt.figure(figsize = (20,14))\n",
    "plt.plot(y_tests,color=\"#0A0AFF\",alpha=0.5,label=\"Test Data\")\n",
    "plt.plot(res,color=\"#AF0000\",label=\"Predections\")\n",
    "plt.title(\"Comparision of Test data and Predictions Linear Kernel\",fontsize=15)\n",
    "plt.legend(fontsize=\"large\")"
   ]
  }
 ],
 "metadata": {
  "kernelspec": {
   "display_name": "Python 3",
   "language": "python",
   "name": "python3"
  },
  "language_info": {
   "codemirror_mode": {
    "name": "ipython",
    "version": 3
   },
   "file_extension": ".py",
   "mimetype": "text/x-python",
   "name": "python",
   "nbconvert_exporter": "python",
   "pygments_lexer": "ipython3",
   "version": "3.7.3"
  }
 },
 "nbformat": 4,
 "nbformat_minor": 2
}
